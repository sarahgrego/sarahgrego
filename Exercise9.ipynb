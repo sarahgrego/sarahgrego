{
 "cells": [
  {
   "cell_type": "markdown",
   "metadata": {},
   "source": [
    "# Section 1\n",
    "## Query 1"
   ]
  },
  {
   "cell_type": "code",
   "execution_count": 17,
   "metadata": {
    "scrolled": false
   },
   "outputs": [
    {
     "name": "stdout",
     "output_type": "stream",
     "text": [
      "\"“STATEFP”\" = '\"02\"'\n"
     ]
    }
   ],
   "source": [
    "import arcpy\n",
    "arcpy.env.workspace = \"C:/Users/sgreg/OneDrive/Documents/gis5653/week6\"\n",
    "tmp = 'tmpLayer'\n",
    "arcpy.MakeFeatureLayer_management('tl_2019_us_county.shp', tmp)\n",
    "query1 = '\"STATEFP\" = \\'02\\''\n",
    "arcpy.SelectLayerByAttribute_management(tmp, \"NEW_SELECTION\", query1)\n",
    "out_file = \"AlaskaCounties.shp\"\n",
    "arcpy.CopyFeatures_management(tmp, out_file)\n",
    "col_name = '“STATEFP”'\n",
    "state_val = '\"02\"'\n",
    "state_query = '\"{0}\" = \\'{1}\\''.format(col_name, state_val)\n",
    "print(state_query)"
   ]
  },
  {
   "cell_type": "markdown",
   "metadata": {},
   "source": [
    "## Query 2"
   ]
  },
  {
   "cell_type": "code",
   "execution_count": 49,
   "metadata": {},
   "outputs": [
    {
     "name": "stdout",
     "output_type": "stream",
     "text": [
      "\"“STATEFP”\" = '\"41\", \"30\",\"53\"'\n"
     ]
    }
   ],
   "source": [
    "import arcpy\n",
    "arcpy.env.workspace = \"C:/Users/sgreg/OneDrive/Documents/gis5653/week6\"\n",
    "tmp = 'tmp2Layer'\n",
    "arcpy.MakeFeatureLayer_management('tl_2019_us_county.shp', tmp)\n",
    "query2 = '\"STATEFP\" = \\'41\\' or \"STATEFP\" = \\'30\\' or \"STATEFP\" = \\'53\\''\n",
    "arcpy.SelectLayerByAttribute_management(tmp, \"NEW_SELECTION\", query2)\n",
    "out_file2 = \"ORMTWACounties.shp\"\n",
    "arcpy.CopyFeatures_management(tmp, out_file2)\n",
    "col_name = '“STATEFP”'\n",
    "state_val = '\"41\", \"30\",\"53\"'\n",
    "state_query = '\"{0}\" = \\'{1}\\''.format(col_name, state_val)\n",
    "print(state_query)"
   ]
  },
  {
   "cell_type": "markdown",
   "metadata": {},
   "source": [
    " ## Query 3"
   ]
  },
  {
   "cell_type": "code",
   "execution_count": 1,
   "metadata": {},
   "outputs": [
    {
     "name": "stdout",
     "output_type": "stream",
     "text": [
      "\"\"pop\"\" = '500000'\n"
     ]
    }
   ],
   "source": [
    "import arcpy\n",
    "arcpy.env.workspace = \"C:/Users/sgreg/OneDrive/Documents/gis5653/week6\"\n",
    "tmp = 'tmp3Layer'\n",
    "arcpy.MakeFeatureLayer_management('builtupp_usa.shp', tmp)\n",
    "query3 = '\"pop\" >= 500000'\n",
    "arcpy.SelectLayerByAttribute_management(tmp, \"NEW_SELECTION\", query3)\n",
    "out_file3 = \"pop.shp\"\n",
    "arcpy.CopyFeatures_management(tmp, out_file3)\n",
    "col_name = '\"pop\"'\n",
    "val = '500000'\n",
    "built_query = '\"{0}\" = \\'{1}\\''.format(col_name, val)\n",
    "print(built_query)"
   ]
  },
  {
   "cell_type": "markdown",
   "metadata": {},
   "source": [
    "## Query 4"
   ]
  },
  {
   "cell_type": "code",
   "execution_count": 25,
   "metadata": {},
   "outputs": [
    {
     "name": "stdout",
     "output_type": "stream",
     "text": [
      "\"\"nam\"\" = '\"Albany\"'\n"
     ]
    }
   ],
   "source": [
    "import arcpy\n",
    "arcpy.env.workspace = \"C:/Users/sgreg/OneDrive/Documents/gis5653/week6\"\n",
    "tmp4 = 'tmpLayer'\n",
    "arcpy.MakeFeatureLayer_management('builtupp_usa.shp', tmp4)\n",
    "query4 = '\"nam\" = \\'Albany\\''\n",
    "arcpy.SelectLayerByAttribute_management(tmp4, \"NEW_SELECTION\", query4)\n",
    "out_file4 = \"Albany.shp\"\n",
    "arcpy.CopyFeatures_management(tmp4, out_file4)\n",
    "col_name = '\"nam\"'\n",
    "state_val = '\"Albany\"'\n",
    "state_query = '\"{0}\" = \\'{1}\\''.format(col_name, state_val)\n",
    "print(state_query)"
   ]
  },
  {
   "cell_type": "markdown",
   "metadata": {},
   "source": [
    "## Query 5"
   ]
  },
  {
   "cell_type": "code",
   "execution_count": 2,
   "metadata": {},
   "outputs": [
    {
     "name": "stdout",
     "output_type": "stream",
     "text": [
      "\"“pop”\" = '10000, 100000'\n"
     ]
    }
   ],
   "source": [
    "import arcpy\n",
    "arcpy.env.workspace = \"C:/Users/sgreg/OneDrive/Documents/gis5653/week6\"\n",
    "tmp = 'tmpLayer5'\n",
    "arcpy.MakeFeatureLayer_management('builtupp_usa.shp', tmp)\n",
    "query = '\"pop\" > 10000 and \"pop\" < 100000'\n",
    "arcpy.SelectLayerByAttribute_management(tmp, \"NEW_SELECTION\", query)\n",
    "out_file5 = \"pop2.shp\"\n",
    "arcpy.CopyFeatures_management(tmp, out_file5)\n",
    "col_name = '“pop”'\n",
    "state_val = '10000, 100000'\n",
    "state_query = '\"{0}\" = \\'{1}\\''.format(col_name, state_val)\n",
    "print(state_query)"
   ]
  },
  {
   "cell_type": "markdown",
   "metadata": {},
   "source": [
    "# Section 2"
   ]
  },
  {
   "cell_type": "code",
   "execution_count": 3,
   "metadata": {},
   "outputs": [
    {
     "name": "stdout",
     "output_type": "stream",
     "text": [
      "\"STATEFP\" = '\"01\", \"01\",\"06\"'\n"
     ]
    }
   ],
   "source": [
    "import arcpy\n",
    "arcpy.env.workspace = \"C:/Users/sgreg/OneDrive/Documents/gis5653/week6\"\n",
    "tmp3 = 'tmp3Layer'\n",
    "arcpy.MakeFeatureLayer_management('tl_2019_us_county.shp', tmp3)\n",
    "querysec2 = '\"STATEFP\" = \\'01\\' Or \"STATEFP\" = \\'05\\' Or \"STATEFP\" = \\'06\\''\n",
    "arcpy.SelectLayerByAttribute_management(tmp3, \"NEW_SELECTION\", querysec2)\n",
    "out_file = \"sec2.shp\"\n",
    "arcpy.CopyFeatures_management(tmp3, out_file)\n",
    "col_name = \"STATEFP\"\n",
    "state_val = '\"01\", \"01\",\"06\"'\n",
    "state_query= '\"{0}\" = \\'{1}\\''.format(col_name, state_val)\n",
    "print(state_query)"
   ]
  }
 ],
 "metadata": {
  "kernelspec": {
   "display_name": "ArcGISPro",
   "language": "Python",
   "name": "python3"
  },
  "language_info": {
   "file_extension": ".py",
   "name": "python",
   "version": "3"
  }
 },
 "nbformat": 4,
 "nbformat_minor": 2
}
